{
 "cells": [
  {
   "cell_type": "code",
   "execution_count": 1,
   "metadata": {},
   "outputs": [],
   "source": [
    "from yelpapi import YelpAPI\n",
    "import pandas as pd\n",
    "from collections import Counter"
   ]
  },
  {
   "cell_type": "code",
   "execution_count": 2,
   "metadata": {},
   "outputs": [],
   "source": [
    "'''\n",
    "Question 1\n",
    "Use the Yelp API to search for all Mandarin businesses that are within \n",
    "    a certain radius of a particular location. \n",
    "Transform to a data frame, save it to a csv \n",
    "'''\n",
    "api_key = 'ZlX9h1U5uHqaLJYgr4FMJuOnO07HCJIHoOtngILkziXNf-bq8VGCV_rnc_BgSxl4HVyum2tfdhtZ4CUvaffkR4kKrJhDBYYTwrvpzwTnSh9e7V7a2JLGXoz6f-f5YHYx'\n",
    "#api_key = '*you\\'ll need your own key' #It's a very long string of letters and numbers.\n",
    "    #You'll need ot sign up with the site to get your own key."
   ]
  },
  {
   "cell_type": "code",
   "execution_count": 3,
   "metadata": {},
   "outputs": [
    {
     "name": "stdout",
     "output_type": "stream",
     "text": [
      "{'businesses': [{'id': 'cKZNbMvoqJaUe7n6lf6i7w', 'alias': 'wildberry-pancakes-and-cafe-chicago-2', 'name': 'Wildberry Pancakes and Cafe', 'image_url': 'https://s3-media3.fl.yelpcdn.com/bphoto/or0SLpOk3UasVtln_AabHw/o.jpg', 'is_closed': False, 'url': 'https://www.yelp.com/biz/wildberry-pancakes-and-cafe-chicago-2?adjust_creative=MkAGikFT9ffLGvyuoTjUWQ&utm_campaign=yelp_api_v3&utm_medium=api_v3_business_search&utm_source=MkAGikFT9ffLGvyuoTjUWQ', 'review_count': 7907, 'categories': [{'alias': 'pancakes', 'title': 'Pancakes'}, {'alias': 'waffles', 'title': 'Waffles'}, {'alias': 'cafes', 'title': 'Cafes'}], 'rating': 4.5, 'coordinates': {'latitude': 41.884668, 'longitude': -87.62288}, 'transactions': ['pickup', 'delivery'], 'price': '$$', 'location': {'address1': '130 E Randolph St', 'address2': '', 'address3': '', 'city': 'Chicago', 'zip_code': '60601', 'country': 'US', 'state': 'IL', 'display_address': ['130 E Randolph St', 'Chicago, IL 60601']}, 'phone': '+13129389777', 'display_phone': '(312) 938-9777', 'distance': 1026.8624959752963}, {'id': 'qjnpkS8yZO8xcyEIy5OU9A', 'alias': 'girl-and-the-goat-chicago', 'name': 'Girl & The Goat', 'image_url': 'https://s3-media2.fl.yelpcdn.com/bphoto/JpfmeBGpADCSEEkAWAkU_Q/o.jpg', 'is_closed': False, 'url': 'https://www.yelp.com/biz/girl-and-the-goat-chicago?adjust_creative=MkAGikFT9ffLGvyuoTjUWQ&utm_campaign=yelp_api_v3&utm_medium=api_v3_business_search&utm_source=MkAGikFT9ffLGvyuoTjUWQ', 'review_count': 8812, 'categories': [{'alias': 'newamerican', 'title': 'American (New)'}, {'alias': 'bakeries', 'title': 'Bakeries'}, {'alias': 'coffee', 'title': 'Coffee & Tea'}], 'rating': 4.5, 'coordinates': {'latitude': 41.88415330470642, 'longitude': -87.64797390222085}, 'transactions': ['delivery'], 'price': '$$$', 'location': {'address1': '809 W Randolph St', 'address2': '', 'address3': '', 'city': 'Chicago', 'zip_code': '60607', 'country': 'US', 'state': 'IL', 'display_address': ['809 W Randolph St', 'Chicago, IL 60607']}, 'phone': '+13124926262', 'display_phone': '(312) 492-6262', 'distance': 2009.2803004688499}, {'id': 'xoi7Cw7FoknAx5p880RtWQ', 'alias': 'au-cheval-chicago', 'name': 'Au Cheval', 'image_url': 'https://s3-media4.fl.yelpcdn.com/bphoto/a0yhvSJX_6i28iwS9egDFg/o.jpg', 'is_closed': False, 'url': 'https://www.yelp.com/biz/au-cheval-chicago?adjust_creative=MkAGikFT9ffLGvyuoTjUWQ&utm_campaign=yelp_api_v3&utm_medium=api_v3_business_search&utm_source=MkAGikFT9ffLGvyuoTjUWQ', 'review_count': 7394, 'categories': [{'alias': 'bars', 'title': 'Bars'}, {'alias': 'tradamerican', 'title': 'American (Traditional)'}], 'rating': 4.5, 'coordinates': {'latitude': 41.88466, 'longitude': -87.647668}, 'transactions': ['delivery'], 'price': '$$', 'location': {'address1': '800 W Randolph St', 'address2': '', 'address3': '', 'city': 'Chicago', 'zip_code': '60607', 'country': 'US', 'state': 'IL', 'display_address': ['800 W Randolph St', 'Chicago, IL 60607']}, 'phone': '+13129294580', 'display_phone': '(312) 929-4580', 'distance': 2013.7252818359816}, {'id': 'boE4Ahsssqic7o5wQLI04w', 'alias': 'the-purple-pig-chicago', 'name': 'The Purple Pig', 'image_url': 'https://s3-media3.fl.yelpcdn.com/bphoto/4KTBLARnKjocTTsVL77l9w/o.jpg', 'is_closed': False, 'url': 'https://www.yelp.com/biz/the-purple-pig-chicago?adjust_creative=MkAGikFT9ffLGvyuoTjUWQ&utm_campaign=yelp_api_v3&utm_medium=api_v3_business_search&utm_source=MkAGikFT9ffLGvyuoTjUWQ', 'review_count': 7356, 'categories': [{'alias': 'tapasmallplates', 'title': 'Tapas/Small Plates'}, {'alias': 'mediterranean', 'title': 'Mediterranean'}, {'alias': 'newamerican', 'title': 'American (New)'}], 'rating': 4.0, 'coordinates': {'latitude': 41.890694, 'longitude': -87.624782}, 'transactions': ['pickup', 'delivery'], 'price': '$$$', 'location': {'address1': '444 N Michigan Ave', 'address2': None, 'address3': '', 'city': 'Chicago', 'zip_code': '60611', 'country': 'US', 'state': 'IL', 'display_address': ['444 N Michigan Ave', 'Chicago, IL 60611']}, 'phone': '+13124641744', 'display_phone': '(312) 464-1744', 'distance': 1659.4365336219144}, {'id': 'AkcZ1fUyB3RocKLYGFu20Q', 'alias': 'art-institute-of-chicago-chicago-3', 'name': 'Art Institute of Chicago', 'image_url': 'https://s3-media2.fl.yelpcdn.com/bphoto/Nxk4IEyP5xXzQ7NI_x1iwA/o.jpg', 'is_closed': False, 'url': 'https://www.yelp.com/biz/art-institute-of-chicago-chicago-3?adjust_creative=MkAGikFT9ffLGvyuoTjUWQ&utm_campaign=yelp_api_v3&utm_medium=api_v3_business_search&utm_source=MkAGikFT9ffLGvyuoTjUWQ', 'review_count': 1907, 'categories': [{'alias': 'artmuseums', 'title': 'Art Museums'}], 'rating': 4.5, 'coordinates': {'latitude': 41.8796, 'longitude': -87.623713}, 'transactions': [], 'location': {'address1': '111 S Michigan Ave', 'address2': '', 'address3': '', 'city': 'Chicago', 'zip_code': '60603', 'country': 'US', 'state': 'IL', 'display_address': ['111 S Michigan Ave', 'Chicago, IL 60603']}, 'phone': '+13124433600', 'display_phone': '(312) 443-3600', 'distance': 476.9129015610163}, {'id': '8vFJH_paXsMocmEO_KAa3w', 'alias': 'lou-malnatis-pizzeria-chicago', 'name': \"Lou Malnati's Pizzeria\", 'image_url': 'https://s3-media3.fl.yelpcdn.com/bphoto/9FiL-9Pbytyg6usOE02lYg/o.jpg', 'is_closed': False, 'url': 'https://www.yelp.com/biz/lou-malnatis-pizzeria-chicago?adjust_creative=MkAGikFT9ffLGvyuoTjUWQ&utm_campaign=yelp_api_v3&utm_medium=api_v3_business_search&utm_source=MkAGikFT9ffLGvyuoTjUWQ', 'review_count': 6344, 'categories': [{'alias': 'pizza', 'title': 'Pizza'}, {'alias': 'italian', 'title': 'Italian'}, {'alias': 'sandwiches', 'title': 'Sandwiches'}], 'rating': 4.0, 'coordinates': {'latitude': 41.890357, 'longitude': -87.633704}, 'transactions': ['pickup', 'delivery'], 'price': '$$', 'location': {'address1': '439 N Wells St', 'address2': '', 'address3': '', 'city': 'Chicago', 'zip_code': '60654', 'country': 'US', 'state': 'IL', 'display_address': ['439 N Wells St', 'Chicago, IL 60654']}, 'phone': '+13128289800', 'display_phone': '(312) 828-9800', 'distance': 1724.588657872792}, {'id': 'apyIymDFbUK7u-Y3V5kmkA', 'alias': 'bavettes-bar-and-boeuf-chicago', 'name': \"Bavette's Bar & Boeuf\", 'image_url': 'https://s3-media3.fl.yelpcdn.com/bphoto/e-0zilu4pxP-Ylt423B0Og/o.jpg', 'is_closed': False, 'url': 'https://www.yelp.com/biz/bavettes-bar-and-boeuf-chicago?adjust_creative=MkAGikFT9ffLGvyuoTjUWQ&utm_campaign=yelp_api_v3&utm_medium=api_v3_business_search&utm_source=MkAGikFT9ffLGvyuoTjUWQ', 'review_count': 2508, 'categories': [{'alias': 'steak', 'title': 'Steakhouses'}, {'alias': 'seafood', 'title': 'Seafood'}, {'alias': 'bars', 'title': 'Bars'}], 'rating': 4.5, 'coordinates': {'latitude': 41.8892796234574, 'longitude': -87.6348227262497}, 'transactions': ['delivery'], 'price': '$$$', 'location': {'address1': '218 W Kinzie St', 'address2': '', 'address3': '', 'city': 'Chicago', 'zip_code': '60654', 'country': 'US', 'state': 'IL', 'display_address': ['218 W Kinzie St', 'Chicago, IL 60654']}, 'phone': '+13126248154', 'display_phone': '(312) 624-8154', 'distance': 1649.6365796400814}, {'id': 'vvhfPV-Llkd4fE2SHuLVvA', 'alias': 'the-gage-chicago', 'name': 'The Gage', 'image_url': 'https://s3-media2.fl.yelpcdn.com/bphoto/w_OsQdxroFfNbT3N-xMFgg/o.jpg', 'is_closed': False, 'url': 'https://www.yelp.com/biz/the-gage-chicago?adjust_creative=MkAGikFT9ffLGvyuoTjUWQ&utm_campaign=yelp_api_v3&utm_medium=api_v3_business_search&utm_source=MkAGikFT9ffLGvyuoTjUWQ', 'review_count': 2971, 'categories': [{'alias': 'gastropubs', 'title': 'Gastropubs'}, {'alias': 'newamerican', 'title': 'American (New)'}, {'alias': 'cocktailbars', 'title': 'Cocktail Bars'}], 'rating': 4.0, 'coordinates': {'latitude': 41.881369, 'longitude': -87.624698}, 'transactions': ['pickup', 'delivery'], 'price': '$$', 'location': {'address1': '24 S Michigan Ave', 'address2': None, 'address3': '', 'city': 'Chicago', 'zip_code': '60603', 'country': 'US', 'state': 'IL', 'display_address': ['24 S Michigan Ave', 'Chicago, IL 60603']}, 'phone': '+13123724243', 'display_phone': '(312) 372-4243', 'distance': 633.4715080399791}, {'id': 'ziIfrqtyupmeNlPAOx6jTw', 'alias': 'quartino-ristorante-chicago', 'name': 'Quartino Ristorante', 'image_url': 'https://s3-media3.fl.yelpcdn.com/bphoto/Z6YpgycrUniinFNWWMzzDw/o.jpg', 'is_closed': False, 'url': 'https://www.yelp.com/biz/quartino-ristorante-chicago?adjust_creative=MkAGikFT9ffLGvyuoTjUWQ&utm_campaign=yelp_api_v3&utm_medium=api_v3_business_search&utm_source=MkAGikFT9ffLGvyuoTjUWQ', 'review_count': 4831, 'categories': [{'alias': 'italian', 'title': 'Italian'}, {'alias': 'wine_bars', 'title': 'Wine Bars'}], 'rating': 4.0, 'coordinates': {'latitude': 41.8934479679332, 'longitude': -87.6283662020996}, 'transactions': ['delivery'], 'price': '$$', 'location': {'address1': '626 N State St', 'address2': None, 'address3': '', 'city': 'Chicago', 'zip_code': '60654', 'country': 'US', 'state': 'IL', 'display_address': ['626 N State St', 'Chicago, IL 60654']}, 'phone': '+13126985000', 'display_phone': '(312) 698-5000', 'distance': 1966.4781709186157}, {'id': '-sdMTRmgExufOk6STZFi9w', 'alias': 'little-goat-diner-chicago-5', 'name': 'Little Goat Diner', 'image_url': 'https://s3-media3.fl.yelpcdn.com/bphoto/Co798tsKGpSvfso112xbuw/o.jpg', 'is_closed': False, 'url': 'https://www.yelp.com/biz/little-goat-diner-chicago-5?adjust_creative=MkAGikFT9ffLGvyuoTjUWQ&utm_campaign=yelp_api_v3&utm_medium=api_v3_business_search&utm_source=MkAGikFT9ffLGvyuoTjUWQ', 'review_count': 4667, 'categories': [{'alias': 'diners', 'title': 'Diners'}], 'rating': 4.0, 'coordinates': {'latitude': 41.8846460590586, 'longitude': -87.6484126982138}, 'transactions': ['delivery'], 'price': '$$', 'location': {'address1': '820 W Randolph St', 'address2': '', 'address3': '', 'city': 'Chicago', 'zip_code': '60607', 'country': 'US', 'state': 'IL', 'display_address': ['820 W Randolph St', 'Chicago, IL 60607']}, 'phone': '+13128883455', 'display_phone': '(312) 888-3455', 'distance': 2067.019466459216}, {'id': '2tKMs0DbdxPSl2JeCJUEKw', 'alias': 'joes-seafood-prime-steak-and-stone-crab-chicago', 'name': \"Joe's Seafood, Prime Steak & Stone Crab\", 'image_url': 'https://s3-media2.fl.yelpcdn.com/bphoto/iwIQqiYQX2IHAtjO0kS9bA/o.jpg', 'is_closed': False, 'url': 'https://www.yelp.com/biz/joes-seafood-prime-steak-and-stone-crab-chicago?adjust_creative=MkAGikFT9ffLGvyuoTjUWQ&utm_campaign=yelp_api_v3&utm_medium=api_v3_business_search&utm_source=MkAGikFT9ffLGvyuoTjUWQ', 'review_count': 2576, 'categories': [{'alias': 'seafood', 'title': 'Seafood'}, {'alias': 'steak', 'title': 'Steakhouses'}], 'rating': 4.5, 'coordinates': {'latitude': 41.891938, 'longitude': -87.62569}, 'transactions': ['pickup', 'delivery'], 'price': '$$$', 'location': {'address1': '60 E Grand Ave', 'address2': '', 'address3': None, 'city': 'Chicago', 'zip_code': '60611', 'country': 'US', 'state': 'IL', 'display_address': ['60 E Grand Ave', 'Chicago, IL 60611']}, 'phone': '+13123795637', 'display_phone': '(312) 379-5637', 'distance': 1798.9234799607927}, {'id': '2DfcXGtDv7T_rnvl4lHzaQ', 'alias': 'millennium-park-chicago', 'name': 'Millennium Park', 'image_url': 'https://s3-media1.fl.yelpcdn.com/bphoto/ElWdmI18LCGGUy1_A2CuxQ/o.jpg', 'is_closed': False, 'url': 'https://www.yelp.com/biz/millennium-park-chicago?adjust_creative=MkAGikFT9ffLGvyuoTjUWQ&utm_campaign=yelp_api_v3&utm_medium=api_v3_business_search&utm_source=MkAGikFT9ffLGvyuoTjUWQ', 'review_count': 1250, 'categories': [{'alias': 'parks', 'title': 'Parks'}], 'rating': 4.5, 'coordinates': {'latitude': 41.88339, 'longitude': -87.6218446}, 'transactions': [], 'location': {'address1': '201 E Randolph St', 'address2': '', 'address3': '', 'city': 'Chicago', 'zip_code': '60602', 'country': 'US', 'state': 'IL', 'display_address': ['201 E Randolph St', 'Chicago, IL 60602']}, 'phone': '+13127421168', 'display_phone': '(312) 742-1168', 'distance': 923.5321496985982}, {'id': 'rp17Dfjdh7JR4GGZwj6nqg', 'alias': 'portillos-hot-dogs-chicago-4', 'name': \"Portillo's Hot Dogs\", 'image_url': 'https://s3-media2.fl.yelpcdn.com/bphoto/-9jRmNrw7QgjcUn_EXVsEA/o.jpg', 'is_closed': False, 'url': 'https://www.yelp.com/biz/portillos-hot-dogs-chicago-4?adjust_creative=MkAGikFT9ffLGvyuoTjUWQ&utm_campaign=yelp_api_v3&utm_medium=api_v3_business_search&utm_source=MkAGikFT9ffLGvyuoTjUWQ', 'review_count': 5813, 'categories': [{'alias': 'hotdog', 'title': 'Hot Dogs'}, {'alias': 'salad', 'title': 'Salad'}, {'alias': 'burgers', 'title': 'Burgers'}], 'rating': 4.0, 'coordinates': {'latitude': 41.8934295, 'longitude': -87.6314147}, 'transactions': ['pickup', 'delivery'], 'price': '$', 'location': {'address1': '100 W Ontario', 'address2': '', 'address3': None, 'city': 'Chicago', 'zip_code': '60654', 'country': 'US', 'state': 'IL', 'display_address': ['100 W Ontario', 'Chicago, IL 60654']}, 'phone': '+13125878910', 'display_phone': '(312) 587-8910', 'distance': 2000.8098212254029}, {'id': 'jGiKIJCVLZHXQDSNnSLPsw', 'alias': 'xoco-chicago', 'name': 'Xoco', 'image_url': 'https://s3-media1.fl.yelpcdn.com/bphoto/UVYeg3YS5zMLcg36T7k6AQ/o.jpg', 'is_closed': False, 'url': 'https://www.yelp.com/biz/xoco-chicago?adjust_creative=MkAGikFT9ffLGvyuoTjUWQ&utm_campaign=yelp_api_v3&utm_medium=api_v3_business_search&utm_source=MkAGikFT9ffLGvyuoTjUWQ', 'review_count': 3688, 'categories': [{'alias': 'mexican', 'title': 'Mexican'}, {'alias': 'breakfast_brunch', 'title': 'Breakfast & Brunch'}, {'alias': 'sandwiches', 'title': 'Sandwiches'}], 'rating': 4.0, 'coordinates': {'latitude': 41.890969, 'longitude': -87.630776}, 'transactions': ['pickup', 'delivery'], 'price': '$$', 'location': {'address1': '449 N Clark St', 'address2': '', 'address3': '', 'city': 'Chicago', 'zip_code': '60654', 'country': 'US', 'state': 'IL', 'display_address': ['449 N Clark St', 'Chicago, IL 60654']}, 'phone': '+13127232131', 'display_phone': '(312) 723-2131', 'distance': 1722.1981864609227}, {'id': 'bQaiow1WcwwSODUo9hHOMQ', 'alias': 'rpm-italian-chicago', 'name': 'RPM Italian', 'image_url': 'https://s3-media3.fl.yelpcdn.com/bphoto/iwJxd0-NUTPVeGvMgnCnEA/o.jpg', 'is_closed': False, 'url': 'https://www.yelp.com/biz/rpm-italian-chicago?adjust_creative=MkAGikFT9ffLGvyuoTjUWQ&utm_campaign=yelp_api_v3&utm_medium=api_v3_business_search&utm_source=MkAGikFT9ffLGvyuoTjUWQ', 'review_count': 3220, 'categories': [{'alias': 'italian', 'title': 'Italian'}], 'rating': 4.0, 'coordinates': {'latitude': 41.8909608540557, 'longitude': -87.6300418625656}, 'transactions': ['pickup', 'delivery'], 'price': '$$$', 'location': {'address1': '52 W Illinois St', 'address2': '', 'address3': '', 'city': 'Chicago', 'zip_code': '60654', 'country': 'US', 'state': 'IL', 'display_address': ['52 W Illinois St', 'Chicago, IL 60654']}, 'phone': '+13122221888', 'display_phone': '(312) 222-1888', 'distance': 1709.6664906498384}, {'id': 'cxAkuwv7p4gm4Coixw7h9A', 'alias': 'lou-malnatis-pizzeria-chicago-9', 'name': \"Lou Malnati's Pizzeria\", 'image_url': 'https://s3-media1.fl.yelpcdn.com/bphoto/AyXPaFggegji5ZogLsSLzw/o.jpg', 'is_closed': False, 'url': 'https://www.yelp.com/biz/lou-malnatis-pizzeria-chicago-9?adjust_creative=MkAGikFT9ffLGvyuoTjUWQ&utm_campaign=yelp_api_v3&utm_medium=api_v3_business_search&utm_source=MkAGikFT9ffLGvyuoTjUWQ', 'review_count': 2704, 'categories': [{'alias': 'pizza', 'title': 'Pizza'}, {'alias': 'italian', 'title': 'Italian'}], 'rating': 4.0, 'coordinates': {'latitude': 41.871566, 'longitude': -87.627275}, 'transactions': ['pickup', 'delivery'], 'price': '$$', 'location': {'address1': '805 S State St', 'address2': '', 'address3': '', 'city': 'Chicago', 'zip_code': '60605', 'country': 'US', 'state': 'IL', 'display_address': ['805 S State St', 'Chicago, IL 60605']}, 'phone': '+13127861000', 'display_phone': '(312) 786-1000', 'distance': 478.21760449086247}, {'id': '1hJYOI26FjCQ-Ce6iKAvug', 'alias': 'cafecito-chicago', 'name': 'Cafecito', 'image_url': 'https://s3-media1.fl.yelpcdn.com/bphoto/ELyeA-gd8M0xIhyRiID85Q/o.jpg', 'is_closed': False, 'url': 'https://www.yelp.com/biz/cafecito-chicago?adjust_creative=MkAGikFT9ffLGvyuoTjUWQ&utm_campaign=yelp_api_v3&utm_medium=api_v3_business_search&utm_source=MkAGikFT9ffLGvyuoTjUWQ', 'review_count': 1982, 'categories': [{'alias': 'coffee', 'title': 'Coffee & Tea'}, {'alias': 'cuban', 'title': 'Cuban'}, {'alias': 'cafes', 'title': 'Cafes'}], 'rating': 4.5, 'coordinates': {'latitude': 41.882416, 'longitude': -87.633641}, 'transactions': ['pickup', 'delivery'], 'price': '$', 'location': {'address1': '7 N Wells', 'address2': '', 'address3': '', 'city': 'Chicago', 'zip_code': '60606', 'country': 'US', 'state': 'IL', 'display_address': ['7 N Wells', 'Chicago, IL 60606']}, 'phone': '+13122634750', 'display_phone': '(312) 263-4750', 'distance': 945.1594490130873}, {'id': 'mvFimrcREBIDo-pLAhMfNg', 'alias': 'avec-chicago-chicago', 'name': 'Avec - Chicago', 'image_url': 'https://s3-media1.fl.yelpcdn.com/bphoto/TBqQGkulWyVyZ6ODYkCM-g/o.jpg', 'is_closed': False, 'url': 'https://www.yelp.com/biz/avec-chicago-chicago?adjust_creative=MkAGikFT9ffLGvyuoTjUWQ&utm_campaign=yelp_api_v3&utm_medium=api_v3_business_search&utm_source=MkAGikFT9ffLGvyuoTjUWQ', 'review_count': 2219, 'categories': [{'alias': 'mediterranean', 'title': 'Mediterranean'}], 'rating': 4.5, 'coordinates': {'latitude': 41.884290441849, 'longitude': -87.6433979433133}, 'transactions': ['pickup', 'delivery'], 'price': '$$$', 'location': {'address1': '615 W Randolph St', 'address2': '', 'address3': '', 'city': 'Chicago', 'zip_code': '60661', 'country': 'US', 'state': 'IL', 'display_address': ['615 W Randolph St', 'Chicago, IL 60661']}, 'phone': '+13123772002', 'display_phone': '(312) 377-2002', 'distance': 1690.6544977676456}, {'id': 'B_04jjMZjeGGKjaPcR3Kig', 'alias': 'three-dots-and-a-dash-chicago', 'name': 'Three Dots and A Dash', 'image_url': 'https://s3-media2.fl.yelpcdn.com/bphoto/OGltmL8Gwz-MtsJfxdifFg/o.jpg', 'is_closed': False, 'url': 'https://www.yelp.com/biz/three-dots-and-a-dash-chicago?adjust_creative=MkAGikFT9ffLGvyuoTjUWQ&utm_campaign=yelp_api_v3&utm_medium=api_v3_business_search&utm_source=MkAGikFT9ffLGvyuoTjUWQ', 'review_count': 3379, 'categories': [{'alias': 'asianfusion', 'title': 'Asian Fusion'}, {'alias': 'tikibars', 'title': 'Tiki Bars'}], 'rating': 4.0, 'coordinates': {'latitude': 41.8904391303273, 'longitude': -87.6306027367742}, 'transactions': ['pickup', 'delivery'], 'price': '$$', 'location': {'address1': '435 N Clark St', 'address2': 'Back alley on Hubbard St', 'address3': '', 'city': 'Chicago', 'zip_code': '60654', 'country': 'US', 'state': 'IL', 'display_address': ['435 N Clark St', 'Back alley on Hubbard St', 'Chicago, IL 60654']}, 'phone': '+13126104220', 'display_phone': '(312) 610-4220', 'distance': 1661.5848617069278}, {'id': '5s9ntZVD45n2CxboZnLbSg', 'alias': 'the-cloud-gate-chicago', 'name': 'The Cloud Gate', 'image_url': 'https://s3-media1.fl.yelpcdn.com/bphoto/DIzp5M4ixkN74sWxqsj-5A/o.jpg', 'is_closed': False, 'url': 'https://www.yelp.com/biz/the-cloud-gate-chicago?adjust_creative=MkAGikFT9ffLGvyuoTjUWQ&utm_campaign=yelp_api_v3&utm_medium=api_v3_business_search&utm_source=MkAGikFT9ffLGvyuoTjUWQ', 'review_count': 810, 'categories': [{'alias': 'landmarks', 'title': 'Landmarks & Historical Buildings'}], 'rating': 4.5, 'coordinates': {'latitude': 41.8825524, 'longitude': -87.6225514}, 'transactions': [], 'location': {'address1': '201 E Randolph St', 'address2': '', 'address3': '', 'city': 'Chicago', 'zip_code': '60602', 'country': 'US', 'state': 'IL', 'display_address': ['201 E Randolph St', 'Chicago, IL 60602']}, 'phone': '+13127421168', 'display_phone': '(312) 742-1168', 'distance': 814.7007486298739}, {'id': 'PZe0q_153VHUnaR-8dOTJg', 'alias': 'the-dearborn-chicago-2', 'name': 'The Dearborn', 'image_url': 'https://s3-media2.fl.yelpcdn.com/bphoto/eSXeGiq2bRUjy7KOER4jeg/o.jpg', 'is_closed': False, 'url': 'https://www.yelp.com/biz/the-dearborn-chicago-2?adjust_creative=MkAGikFT9ffLGvyuoTjUWQ&utm_campaign=yelp_api_v3&utm_medium=api_v3_business_search&utm_source=MkAGikFT9ffLGvyuoTjUWQ', 'review_count': 1506, 'categories': [{'alias': 'seafood', 'title': 'Seafood'}, {'alias': 'tradamerican', 'title': 'American (Traditional)'}, {'alias': 'breakfast_brunch', 'title': 'Breakfast & Brunch'}], 'rating': 4.5, 'coordinates': {'latitude': 41.88412, 'longitude': -87.629146}, 'transactions': ['pickup', 'delivery'], 'price': '$$', 'location': {'address1': '145 N Dearborn St', 'address2': '', 'address3': None, 'city': 'Chicago', 'zip_code': '60602', 'country': 'US', 'state': 'IL', 'display_address': ['145 N Dearborn St', 'Chicago, IL 60602']}, 'phone': '+13123841242', 'display_phone': '(312) 384-1242', 'distance': 949.6100285188579}, {'id': 't2nXebM7aqTj_qq6saZ89g', 'alias': 'eataly-chicago-chicago-6', 'name': 'Eataly Chicago', 'image_url': 'https://s3-media2.fl.yelpcdn.com/bphoto/fRD5zFEq8PrEL2w5v_EFFw/o.jpg', 'is_closed': False, 'url': 'https://www.yelp.com/biz/eataly-chicago-chicago-6?adjust_creative=MkAGikFT9ffLGvyuoTjUWQ&utm_campaign=yelp_api_v3&utm_medium=api_v3_business_search&utm_source=MkAGikFT9ffLGvyuoTjUWQ', 'review_count': 3825, 'categories': [{'alias': 'gourmet', 'title': 'Specialty Food'}, {'alias': 'pizza', 'title': 'Pizza'}, {'alias': 'italian', 'title': 'Italian'}], 'rating': 4.0, 'coordinates': {'latitude': 41.892335432963, 'longitude': -87.6262607945148}, 'transactions': ['pickup', 'delivery'], 'price': '$$', 'location': {'address1': '43 E Ohio St', 'address2': '', 'address3': '', 'city': 'Chicago', 'zip_code': '60611', 'country': 'US', 'state': 'IL', 'display_address': ['43 E Ohio St', 'Chicago, IL 60611']}, 'phone': '+13125218700', 'display_phone': '(312) 521-8700', 'distance': 1836.3405122522465}, {'id': 'dKcO9OQ44RPRlkWe-vToFA', 'alias': 'shaws-crab-house-chicago', 'name': \"Shaw's Crab House\", 'image_url': 'https://s3-media1.fl.yelpcdn.com/bphoto/iNUGxhcP3O2g84OJcjFiWA/o.jpg', 'is_closed': False, 'url': 'https://www.yelp.com/biz/shaws-crab-house-chicago?adjust_creative=MkAGikFT9ffLGvyuoTjUWQ&utm_campaign=yelp_api_v3&utm_medium=api_v3_business_search&utm_source=MkAGikFT9ffLGvyuoTjUWQ', 'review_count': 2296, 'categories': [{'alias': 'seafood', 'title': 'Seafood'}, {'alias': 'sushi', 'title': 'Sushi Bars'}, {'alias': 'cocktailbars', 'title': 'Cocktail Bars'}], 'rating': 4.0, 'coordinates': {'latitude': 41.8899414, 'longitude': -87.6273507}, 'transactions': ['pickup', 'delivery'], 'price': '$$$', 'location': {'address1': '21 E Hubbard St', 'address2': '', 'address3': '', 'city': 'Chicago', 'zip_code': '60611', 'country': 'US', 'state': 'IL', 'display_address': ['21 E Hubbard St', 'Chicago, IL 60611']}, 'phone': '+13125272722', 'display_phone': '(312) 527-2722', 'distance': 1572.0692290454188}, {'id': 'dux6UvpMGJuHquFA3JfR3A', 'alias': 'green-street-smoked-meats-chicago', 'name': 'Green Street Smoked Meats', 'image_url': 'https://s3-media1.fl.yelpcdn.com/bphoto/vREgFglrHV6kxyDjp9fPLA/o.jpg', 'is_closed': False, 'url': 'https://www.yelp.com/biz/green-street-smoked-meats-chicago?adjust_creative=MkAGikFT9ffLGvyuoTjUWQ&utm_campaign=yelp_api_v3&utm_medium=api_v3_business_search&utm_source=MkAGikFT9ffLGvyuoTjUWQ', 'review_count': 1755, 'categories': [{'alias': 'bbq', 'title': 'Barbeque'}, {'alias': 'cocktailbars', 'title': 'Cocktail Bars'}, {'alias': 'beerbar', 'title': 'Beer Bar'}], 'rating': 4.5, 'coordinates': {'latitude': 41.883623, 'longitude': -87.648907}, 'transactions': ['delivery'], 'price': '$$', 'location': {'address1': '112 N Green St', 'address2': None, 'address3': '', 'city': 'Chicago', 'zip_code': '60607', 'country': 'US', 'state': 'IL', 'display_address': ['112 N Green St', 'Chicago, IL 60607']}, 'phone': '+13127540431', 'display_phone': '(312) 754-0431', 'distance': 2052.531139864453}, {'id': 'LMaoM2Ue2BR_HI9ba3JsZg', 'alias': 'the-publican-chicago', 'name': 'The Publican', 'image_url': 'https://s3-media3.fl.yelpcdn.com/bphoto/HFCywB9HJztuf6mSk4Nvww/o.jpg', 'is_closed': False, 'url': 'https://www.yelp.com/biz/the-publican-chicago?adjust_creative=MkAGikFT9ffLGvyuoTjUWQ&utm_campaign=yelp_api_v3&utm_medium=api_v3_business_search&utm_source=MkAGikFT9ffLGvyuoTjUWQ', 'review_count': 3243, 'categories': [{'alias': 'newamerican', 'title': 'American (New)'}, {'alias': 'breakfast_brunch', 'title': 'Breakfast & Brunch'}, {'alias': 'diners', 'title': 'Diners'}], 'rating': 4.0, 'coordinates': {'latitude': 41.886644, 'longitude': -87.648765}, 'transactions': ['pickup', 'delivery'], 'price': '$$$', 'location': {'address1': '837 W Fulton Market', 'address2': '', 'address3': '', 'city': 'Chicago', 'zip_code': '60607', 'country': 'US', 'state': 'IL', 'display_address': ['837 W Fulton Market', 'Chicago, IL 60607']}, 'phone': '+13127339555', 'display_phone': '(312) 733-9555', 'distance': 2205.626574719736}, {'id': 'zXDVdB7jofrt1IWODlOtUA', 'alias': 'beatrix-chicago-10', 'name': 'Beatrix', 'image_url': 'https://s3-media4.fl.yelpcdn.com/bphoto/XPbTbLGK8Y3enNcX00W7WQ/o.jpg', 'is_closed': False, 'url': 'https://www.yelp.com/biz/beatrix-chicago-10?adjust_creative=MkAGikFT9ffLGvyuoTjUWQ&utm_campaign=yelp_api_v3&utm_medium=api_v3_business_search&utm_source=MkAGikFT9ffLGvyuoTjUWQ', 'review_count': 2019, 'categories': [{'alias': 'newamerican', 'title': 'American (New)'}, {'alias': 'breakfast_brunch', 'title': 'Breakfast & Brunch'}], 'rating': 4.0, 'coordinates': {'latitude': 41.891492, 'longitude': -87.630833}, 'transactions': ['pickup', 'delivery'], 'price': '$$', 'location': {'address1': '519 N Clark St', 'address2': '', 'address3': '', 'city': 'Chicago', 'zip_code': '60654', 'country': 'US', 'state': 'IL', 'display_address': ['519 N Clark St', 'Chicago, IL 60654']}, 'phone': '+13122841377', 'display_phone': '(312) 284-1377', 'distance': 1780.0742231817026}, {'id': 'CwPi6NVuJIZZx4IBcTekFQ', 'alias': 'yolk-south-loop-chicago', 'name': 'Yolk - South Loop', 'image_url': 'https://s3-media4.fl.yelpcdn.com/bphoto/6EOtFgrlcvRpKEBZBMaJtg/o.jpg', 'is_closed': False, 'url': 'https://www.yelp.com/biz/yolk-south-loop-chicago?adjust_creative=MkAGikFT9ffLGvyuoTjUWQ&utm_campaign=yelp_api_v3&utm_medium=api_v3_business_search&utm_source=MkAGikFT9ffLGvyuoTjUWQ', 'review_count': 2320, 'categories': [{'alias': 'breakfast_brunch', 'title': 'Breakfast & Brunch'}, {'alias': 'tradamerican', 'title': 'American (Traditional)'}, {'alias': 'coffee', 'title': 'Coffee & Tea'}], 'rating': 4.0, 'coordinates': {'latitude': 41.8687801, 'longitude': -87.6242249}, 'transactions': ['pickup', 'delivery'], 'price': '$$', 'location': {'address1': '1120 S Michigan Ave', 'address2': None, 'address3': '', 'city': 'Chicago', 'zip_code': '60605', 'country': 'US', 'state': 'IL', 'display_address': ['1120 S Michigan Ave', 'Chicago, IL 60605']}, 'phone': '+13127899655', 'display_phone': '(312) 789-9655', 'distance': 789.1058458212299}, {'id': '7vsOVA4wrHP6f3DMQdD8og', 'alias': 'volare-ristorante-italiano-chicago', 'name': 'Volare Ristorante Italiano', 'image_url': 'https://s3-media2.fl.yelpcdn.com/bphoto/y3NcU4E6IFrqNs9cfi8x0A/o.jpg', 'is_closed': False, 'url': 'https://www.yelp.com/biz/volare-ristorante-italiano-chicago?adjust_creative=MkAGikFT9ffLGvyuoTjUWQ&utm_campaign=yelp_api_v3&utm_medium=api_v3_business_search&utm_source=MkAGikFT9ffLGvyuoTjUWQ', 'review_count': 2212, 'categories': [{'alias': 'italian', 'title': 'Italian'}], 'rating': 4.0, 'coordinates': {'latitude': 41.8915901798304, 'longitude': -87.6225186472213}, 'transactions': ['pickup', 'restaurant_reservation', 'delivery'], 'price': '$$', 'location': {'address1': '201 E Grand Ave', 'address2': '', 'address3': '', 'city': 'Chicago', 'zip_code': '60611', 'country': 'US', 'state': 'IL', 'display_address': ['201 E Grand Ave', 'Chicago, IL 60611']}, 'phone': '+13124109900', 'display_phone': '(312) 410-9900', 'distance': 1783.1832454679843}, {'id': 'Qn10NEhycm3k5HQoueDYSQ', 'alias': 'do-rite-donuts-and-coffee-chicago-2', 'name': 'Do-Rite Donuts & Coffee', 'image_url': 'https://s3-media3.fl.yelpcdn.com/bphoto/JzeKWn2GIhMiPxZHYKV8AQ/o.jpg', 'is_closed': False, 'url': 'https://www.yelp.com/biz/do-rite-donuts-and-coffee-chicago-2?adjust_creative=MkAGikFT9ffLGvyuoTjUWQ&utm_campaign=yelp_api_v3&utm_medium=api_v3_business_search&utm_source=MkAGikFT9ffLGvyuoTjUWQ', 'review_count': 1117, 'categories': [{'alias': 'coffee', 'title': 'Coffee & Tea'}, {'alias': 'donuts', 'title': 'Donuts'}], 'rating': 4.5, 'coordinates': {'latitude': 41.8846392380926, 'longitude': -87.6301468588139}, 'transactions': ['pickup', 'delivery'], 'price': '$', 'location': {'address1': '50 West Randolph St', 'address2': '', 'address3': '', 'city': 'Chicago', 'zip_code': '60601', 'country': 'US', 'state': 'IL', 'display_address': ['50 West Randolph St', 'Chicago, IL 60601']}, 'phone': '+13124882483', 'display_phone': '(312) 488-2483', 'distance': 1027.4554003101648}, {'id': 'dSqRMhGNCWuSjPT_4lsZqw', 'alias': 'siena-tavern-chicago', 'name': 'Siena Tavern', 'image_url': 'https://s3-media3.fl.yelpcdn.com/bphoto/gitShUDIV5KZNPEWFo6s2w/o.jpg', 'is_closed': False, 'url': 'https://www.yelp.com/biz/siena-tavern-chicago?adjust_creative=MkAGikFT9ffLGvyuoTjUWQ&utm_campaign=yelp_api_v3&utm_medium=api_v3_business_search&utm_source=MkAGikFT9ffLGvyuoTjUWQ', 'review_count': 1901, 'categories': [{'alias': 'italian', 'title': 'Italian'}, {'alias': 'newamerican', 'title': 'American (New)'}, {'alias': 'pizza', 'title': 'Pizza'}], 'rating': 4.0, 'coordinates': {'latitude': 41.8891395940387, 'longitude': -87.629966789584}, 'transactions': ['pickup', 'delivery'], 'price': '$$$', 'location': {'address1': '51 W Kinzie St', 'address2': '', 'address3': '', 'city': 'Chicago', 'zip_code': '60654', 'country': 'US', 'state': 'IL', 'display_address': ['51 W Kinzie St', 'Chicago, IL 60654']}, 'phone': '+13125951322', 'display_phone': '(312) 595-1322', 'distance': 1509.4580751081005}, {'id': '8d_DiHWB-pjBVW3a7D8EWg', 'alias': 'sunda-chicago-chicago', 'name': 'Sunda Chicago', 'image_url': 'https://s3-media1.fl.yelpcdn.com/bphoto/otlPT7uFY_23it-_t8ZcOA/o.jpg', 'is_closed': False, 'url': 'https://www.yelp.com/biz/sunda-chicago-chicago?adjust_creative=MkAGikFT9ffLGvyuoTjUWQ&utm_campaign=yelp_api_v3&utm_medium=api_v3_business_search&utm_source=MkAGikFT9ffLGvyuoTjUWQ', 'review_count': 2866, 'categories': [{'alias': 'asianfusion', 'title': 'Asian Fusion'}, {'alias': 'sushi', 'title': 'Sushi Bars'}, {'alias': 'japanese', 'title': 'Japanese'}], 'rating': 4.0, 'coordinates': {'latitude': 41.8909469, 'longitude': -87.6317244}, 'transactions': ['pickup', 'delivery'], 'price': '$$$', 'location': {'address1': '110 W Illinois St', 'address2': '', 'address3': '', 'city': 'Chicago', 'zip_code': '60654', 'country': 'US', 'state': 'IL', 'display_address': ['110 W Illinois St', 'Chicago, IL 60654']}, 'phone': '+13126440500', 'display_phone': '(312) 644-0500', 'distance': 1740.2347777442696}, {'id': 'cyoEeLb5rc9ZAeTO2dkEUQ', 'alias': 'do-rite-donuts-and-chicken-chicago-4', 'name': 'Do-Rite Donuts & Chicken', 'image_url': 'https://s3-media3.fl.yelpcdn.com/bphoto/XjQbOmLaJa29MOJIiGyR5w/o.jpg', 'is_closed': False, 'url': 'https://www.yelp.com/biz/do-rite-donuts-and-chicken-chicago-4?adjust_creative=MkAGikFT9ffLGvyuoTjUWQ&utm_campaign=yelp_api_v3&utm_medium=api_v3_business_search&utm_source=MkAGikFT9ffLGvyuoTjUWQ', 'review_count': 1248, 'categories': [{'alias': 'donuts', 'title': 'Donuts'}, {'alias': 'coffee', 'title': 'Coffee & Tea'}, {'alias': 'breakfast_brunch', 'title': 'Breakfast & Brunch'}], 'rating': 4.5, 'coordinates': {'latitude': 41.894028, 'longitude': -87.6213298}, 'transactions': ['pickup', 'delivery'], 'price': '$', 'location': {'address1': '233 E Erie St', 'address2': '', 'address3': '', 'city': 'Chicago', 'zip_code': '60611', 'country': 'US', 'state': 'IL', 'display_address': ['233 E Erie St', 'Chicago, IL 60611']}, 'phone': '+13123441374', 'display_phone': '(312) 344-1374', 'distance': 2068.1819754712546}, {'id': 'riT822EnU7y_5eCuJsd9sA', 'alias': 'cindys-chicago', 'name': \"Cindy's\", 'image_url': 'https://s3-media2.fl.yelpcdn.com/bphoto/HOUIgQT7SobS8DCLzRi_uw/o.jpg', 'is_closed': False, 'url': 'https://www.yelp.com/biz/cindys-chicago?adjust_creative=MkAGikFT9ffLGvyuoTjUWQ&utm_campaign=yelp_api_v3&utm_medium=api_v3_business_search&utm_source=MkAGikFT9ffLGvyuoTjUWQ', 'review_count': 1780, 'categories': [{'alias': 'newamerican', 'title': 'American (New)'}, {'alias': 'seafood', 'title': 'Seafood'}, {'alias': 'breakfast_brunch', 'title': 'Breakfast & Brunch'}], 'rating': 4.0, 'coordinates': {'latitude': 41.8816894031196, 'longitude': -87.6250061730162}, 'transactions': ['delivery'], 'price': '$$', 'location': {'address1': '12 S Michigan Ave', 'address2': '', 'address3': '', 'city': 'Chicago', 'zip_code': '60603', 'country': 'US', 'state': 'IL', 'display_address': ['12 S Michigan Ave', 'Chicago, IL 60603']}, 'phone': '+18443122221', 'display_phone': '(844) 312-2221', 'distance': 663.1813912955022}, {'id': 'Bxd9Y2PsdvIOGIKFQh53RQ', 'alias': 'giordanos-chicago-30', 'name': \"Giordano's\", 'image_url': 'https://s3-media1.fl.yelpcdn.com/bphoto/OKxuR9ZqBNY-4wvP0Z0SPQ/o.jpg', 'is_closed': False, 'url': 'https://www.yelp.com/biz/giordanos-chicago-30?adjust_creative=MkAGikFT9ffLGvyuoTjUWQ&utm_campaign=yelp_api_v3&utm_medium=api_v3_business_search&utm_source=MkAGikFT9ffLGvyuoTjUWQ', 'review_count': 2925, 'categories': [{'alias': 'pizza', 'title': 'Pizza'}, {'alias': 'salad', 'title': 'Salad'}, {'alias': 'italian', 'title': 'Italian'}], 'rating': 4.0, 'coordinates': {'latitude': 41.885165, 'longitude': -87.623753}, 'transactions': ['delivery'], 'price': '$$', 'location': {'address1': '130 E Randolph', 'address2': '', 'address3': '', 'city': 'Chicago', 'zip_code': '60601', 'country': 'US', 'state': 'IL', 'display_address': ['130 E Randolph', 'Chicago, IL 60601']}, 'phone': '+13126161200', 'display_phone': '(312) 616-1200', 'distance': 1062.4826927465272}, {'id': 'JMWtBuuNmTXqoBs06Wt_7w', 'alias': 'rpm-steak-chicago-2', 'name': 'RPM Steak', 'image_url': 'https://s3-media2.fl.yelpcdn.com/bphoto/trXqwfP4RBk0F59gSX6-KQ/o.jpg', 'is_closed': False, 'url': 'https://www.yelp.com/biz/rpm-steak-chicago-2?adjust_creative=MkAGikFT9ffLGvyuoTjUWQ&utm_campaign=yelp_api_v3&utm_medium=api_v3_business_search&utm_source=MkAGikFT9ffLGvyuoTjUWQ', 'review_count': 1504, 'categories': [{'alias': 'steak', 'title': 'Steakhouses'}, {'alias': 'salad', 'title': 'Salad'}, {'alias': 'sandwiches', 'title': 'Sandwiches'}], 'rating': 4.0, 'coordinates': {'latitude': 41.88932150898674, 'longitude': -87.63061025948531}, 'transactions': ['pickup', 'delivery'], 'price': '$$$$', 'location': {'address1': '66 W Kinzie St', 'address2': '', 'address3': '', 'city': 'Chicago', 'zip_code': '60654', 'country': 'US', 'state': 'IL', 'display_address': ['66 W Kinzie St', 'Chicago, IL 60654']}, 'phone': '+13122844990', 'display_phone': '(312) 284-4990', 'distance': 1540.3718806351162}, {'id': 'kWOELNlUM14bv0m-slvq6A', 'alias': 'intelligentsia-coffee-chicago-8', 'name': 'Intelligentsia Coffee', 'image_url': 'https://s3-media4.fl.yelpcdn.com/bphoto/vvhtBf-kovnGncoagdAkvQ/o.jpg', 'is_closed': False, 'url': 'https://www.yelp.com/biz/intelligentsia-coffee-chicago-8?adjust_creative=MkAGikFT9ffLGvyuoTjUWQ&utm_campaign=yelp_api_v3&utm_medium=api_v3_business_search&utm_source=MkAGikFT9ffLGvyuoTjUWQ', 'review_count': 1152, 'categories': [{'alias': 'coffee', 'title': 'Coffee & Tea'}], 'rating': 4.0, 'coordinates': {'latitude': 41.877995, 'longitude': -87.6295658341911}, 'transactions': ['delivery'], 'price': '$$', 'location': {'address1': '53 W Jackson Blvd', 'address2': '', 'address3': None, 'city': 'Chicago', 'zip_code': '60604', 'country': 'US', 'state': 'IL', 'display_address': ['53 W Jackson Blvd', 'Chicago, IL 60604']}, 'phone': '+13122530594', 'display_phone': '(312) 253-0594', 'distance': 354.2251714471243}, {'id': 'psz-vCo_OxNt21o6D0UfAw', 'alias': 'firecakes-donuts-chicago-4', 'name': 'Firecakes Donuts', 'image_url': 'https://s3-media1.fl.yelpcdn.com/bphoto/HVDWnKSvYuzE0N0wG3Aoxw/o.jpg', 'is_closed': False, 'url': 'https://www.yelp.com/biz/firecakes-donuts-chicago-4?adjust_creative=MkAGikFT9ffLGvyuoTjUWQ&utm_campaign=yelp_api_v3&utm_medium=api_v3_business_search&utm_source=MkAGikFT9ffLGvyuoTjUWQ', 'review_count': 1631, 'categories': [{'alias': 'bakeries', 'title': 'Bakeries'}, {'alias': 'donuts', 'title': 'Donuts'}], 'rating': 4.0, 'coordinates': {'latitude': 41.89027, 'longitude': -87.63078}, 'transactions': ['pickup', 'delivery'], 'price': '$$', 'location': {'address1': '68 W Hubbard St', 'address2': '', 'address3': '', 'city': 'Chicago', 'zip_code': '60654', 'country': 'US', 'state': 'IL', 'display_address': ['68 W Hubbard St', 'Chicago, IL 60654']}, 'phone': '+13123296500', 'display_phone': '(312) 329-6500', 'distance': 1634.8938287753892}, {'id': 'sDYjKyI_67eUhFAqVneYjA', 'alias': 'gilt-bar-chicago', 'name': 'Gilt Bar', 'image_url': 'https://s3-media1.fl.yelpcdn.com/bphoto/RYccodi7YX_ryQIjL7ALgA/o.jpg', 'is_closed': False, 'url': 'https://www.yelp.com/biz/gilt-bar-chicago?adjust_creative=MkAGikFT9ffLGvyuoTjUWQ&utm_campaign=yelp_api_v3&utm_medium=api_v3_business_search&utm_source=MkAGikFT9ffLGvyuoTjUWQ', 'review_count': 1731, 'categories': [{'alias': 'newamerican', 'title': 'American (New)'}, {'alias': 'bars', 'title': 'Bars'}], 'rating': 4.0, 'coordinates': {'latitude': 41.8894, 'longitude': -87.6353199}, 'transactions': [], 'price': '$$$', 'location': {'address1': '230 W Kinzie St', 'address2': None, 'address3': None, 'city': 'Chicago', 'zip_code': '60654', 'country': 'US', 'state': 'IL', 'display_address': ['230 W Kinzie St', 'Chicago, IL 60654']}, 'phone': '+13124649544', 'display_phone': '(312) 464-9544', 'distance': 1667.4395345458074}, {'id': 'AqgG-1aD6JYj9D6OmBWO3w', 'alias': 'frontera-grill-chicago', 'name': 'Frontera Grill', 'image_url': 'https://s3-media1.fl.yelpcdn.com/bphoto/0Dsi6gQr5igNtQLwjCZPwQ/o.jpg', 'is_closed': False, 'url': 'https://www.yelp.com/biz/frontera-grill-chicago?adjust_creative=MkAGikFT9ffLGvyuoTjUWQ&utm_campaign=yelp_api_v3&utm_medium=api_v3_business_search&utm_source=MkAGikFT9ffLGvyuoTjUWQ', 'review_count': 2342, 'categories': [{'alias': 'mexican', 'title': 'Mexican'}, {'alias': 'desserts', 'title': 'Desserts'}], 'rating': 4.0, 'coordinates': {'latitude': 41.8905699, 'longitude': -87.63079}, 'transactions': ['pickup', 'delivery'], 'price': '$$$', 'location': {'address1': '445 N Clark St', 'address2': '', 'address3': '', 'city': 'Chicago', 'zip_code': '60654', 'country': 'US', 'state': 'IL', 'display_address': ['445 N Clark St', 'Chicago, IL 60654']}, 'phone': '+13126611434', 'display_phone': '(312) 661-1434', 'distance': 1673.815757451612}, {'id': '0hfDRVaGSydijN5du1HCzg', 'alias': 'bar-siena-chicago', 'name': 'Bar Siena', 'image_url': 'https://s3-media1.fl.yelpcdn.com/bphoto/zoOW2D8F5gWK3vyaBVL-2w/o.jpg', 'is_closed': False, 'url': 'https://www.yelp.com/biz/bar-siena-chicago?adjust_creative=MkAGikFT9ffLGvyuoTjUWQ&utm_campaign=yelp_api_v3&utm_medium=api_v3_business_search&utm_source=MkAGikFT9ffLGvyuoTjUWQ', 'review_count': 1783, 'categories': [{'alias': 'italian', 'title': 'Italian'}, {'alias': 'tradamerican', 'title': 'American (Traditional)'}, {'alias': 'wine_bars', 'title': 'Wine Bars'}], 'rating': 4.0, 'coordinates': {'latitude': 41.88463232013353, 'longitude': -87.64877644025465}, 'transactions': ['pickup', 'delivery'], 'price': '$$', 'location': {'address1': '832 W Randolph St', 'address2': '', 'address3': '', 'city': 'Chicago', 'zip_code': '60607', 'country': 'US', 'state': 'IL', 'display_address': ['832 W Randolph St', 'Chicago, IL 60607']}, 'phone': '+13124927775', 'display_phone': '(312) 492-7775', 'distance': 2092.857149749801}, {'id': 'nO8Yrt4l4JLSvCAkkwrk1Q', 'alias': 'gyu-kaku-japanese-bbq-chicago', 'name': 'Gyu-Kaku Japanese BBQ', 'image_url': 'https://s3-media2.fl.yelpcdn.com/bphoto/q4qXftGokgxfy69I18cwOg/o.jpg', 'is_closed': False, 'url': 'https://www.yelp.com/biz/gyu-kaku-japanese-bbq-chicago?adjust_creative=MkAGikFT9ffLGvyuoTjUWQ&utm_campaign=yelp_api_v3&utm_medium=api_v3_business_search&utm_source=MkAGikFT9ffLGvyuoTjUWQ', 'review_count': 1669, 'categories': [{'alias': 'japanese', 'title': 'Japanese'}, {'alias': 'bbq', 'title': 'Barbeque'}, {'alias': 'asianfusion', 'title': 'Asian Fusion'}], 'rating': 4.0, 'coordinates': {'latitude': 41.89281, 'longitude': -87.62223}, 'transactions': ['pickup', 'delivery'], 'price': '$$', 'location': {'address1': '210 E Ohio St', 'address2': '', 'address3': '', 'city': 'Chicago', 'zip_code': '60611', 'country': 'US', 'state': 'IL', 'display_address': ['210 E Ohio St', 'Chicago, IL 60611']}, 'phone': '+13122668929', 'display_phone': '(312) 266-8929', 'distance': 1917.1817111308665}, {'id': '43rd1LKcZRIunySzbMsyLQ', 'alias': 'fogo-de-chão-chicago-5', 'name': 'Fogo de Chão', 'image_url': 'https://s3-media4.fl.yelpcdn.com/bphoto/GTVySxjcUswEAN_40_uyxw/o.jpg', 'is_closed': False, 'url': 'https://www.yelp.com/biz/fogo-de-ch%C3%A3o-chicago-5?adjust_creative=MkAGikFT9ffLGvyuoTjUWQ&utm_campaign=yelp_api_v3&utm_medium=api_v3_business_search&utm_source=MkAGikFT9ffLGvyuoTjUWQ', 'review_count': 1718, 'categories': [{'alias': 'brazilian', 'title': 'Brazilian'}, {'alias': 'steak', 'title': 'Steakhouses'}], 'rating': 4.0, 'coordinates': {'latitude': 41.894127, 'longitude': -87.632327}, 'transactions': ['pickup', 'delivery'], 'price': '$$$', 'location': {'address1': '661 N La Salle Dr', 'address2': '', 'address3': '', 'city': 'Chicago', 'zip_code': '60654', 'country': 'US', 'state': 'IL', 'display_address': ['661 N La Salle Dr', 'Chicago, IL 60654']}, 'phone': '+13129329330', 'display_phone': '(312) 932-9330', 'distance': 2093.058277250975}, {'id': '3Q_N0K28SRJbPy2sz0QqVw', 'alias': 'prime-and-provisions-chicago-5', 'name': 'Prime & Provisions', 'image_url': 'https://s3-media2.fl.yelpcdn.com/bphoto/QkQqY6It4Clyxk9XubzVXw/o.jpg', 'is_closed': False, 'url': 'https://www.yelp.com/biz/prime-and-provisions-chicago-5?adjust_creative=MkAGikFT9ffLGvyuoTjUWQ&utm_campaign=yelp_api_v3&utm_medium=api_v3_business_search&utm_source=MkAGikFT9ffLGvyuoTjUWQ', 'review_count': 1233, 'categories': [{'alias': 'tradamerican', 'title': 'American (Traditional)'}, {'alias': 'seafood', 'title': 'Seafood'}, {'alias': 'steak', 'title': 'Steakhouses'}], 'rating': 4.5, 'coordinates': {'latitude': 41.88649652, 'longitude': -87.63355918}, 'transactions': ['delivery'], 'price': '$$$$', 'location': {'address1': '222 N La Salle St', 'address2': None, 'address3': '', 'city': 'Chicago', 'zip_code': '60601', 'country': 'US', 'state': 'IL', 'display_address': ['222 N La Salle St', 'Chicago, IL 60601']}, 'phone': '+13127267777', 'display_phone': '(312) 726-7777', 'distance': 1325.3609934448418}, {'id': 'zIXZtgiir9CVF-iZeeAvaQ', 'alias': 'ramen-san-chicago', 'name': 'RAMEN-SAN', 'image_url': 'https://s3-media3.fl.yelpcdn.com/bphoto/keCcrEk2S_PHLopccD1-WA/o.jpg', 'is_closed': False, 'url': 'https://www.yelp.com/biz/ramen-san-chicago?adjust_creative=MkAGikFT9ffLGvyuoTjUWQ&utm_campaign=yelp_api_v3&utm_medium=api_v3_business_search&utm_source=MkAGikFT9ffLGvyuoTjUWQ', 'review_count': 2405, 'categories': [{'alias': 'ramen', 'title': 'Ramen'}], 'rating': 4.0, 'coordinates': {'latitude': 41.889798, 'longitude': -87.630293}, 'transactions': ['pickup', 'delivery'], 'price': '$$', 'location': {'address1': '59 W Hubbard St', 'address2': '', 'address3': '', 'city': 'Chicago', 'zip_code': '60654', 'country': 'US', 'state': 'IL', 'display_address': ['59 W Hubbard St', 'Chicago, IL 60654']}, 'phone': '+13123779950', 'display_phone': '(312) 377-9950', 'distance': 1586.559252836333}, {'id': 'HkUUKDwlIu869ECubV4NfA', 'alias': 'tanta-chicago', 'name': 'Tanta', 'image_url': 'https://s3-media2.fl.yelpcdn.com/bphoto/-yJLCj7Ijs02qYaWL5TxWQ/o.jpg', 'is_closed': False, 'url': 'https://www.yelp.com/biz/tanta-chicago?adjust_creative=MkAGikFT9ffLGvyuoTjUWQ&utm_campaign=yelp_api_v3&utm_medium=api_v3_business_search&utm_source=MkAGikFT9ffLGvyuoTjUWQ', 'review_count': 1272, 'categories': [{'alias': 'peruvian', 'title': 'Peruvian'}, {'alias': 'bars', 'title': 'Bars'}], 'rating': 4.0, 'coordinates': {'latitude': 41.891861, 'longitude': -87.6320114}, 'transactions': ['pickup', 'delivery'], 'price': '$$$', 'location': {'address1': '118 W Grand Ave', 'address2': '', 'address3': '', 'city': 'Chicago', 'zip_code': '60654', 'country': 'US', 'state': 'IL', 'display_address': ['118 W Grand Ave', 'Chicago, IL 60654']}, 'phone': '+13122229700', 'display_phone': '(312) 222-9700', 'distance': 1842.9686445156003}, {'id': 'tuJraaFffIS_JNK_4ZqGTA', 'alias': 'ema-chicago-6', 'name': 'Ema', 'image_url': 'https://s3-media2.fl.yelpcdn.com/bphoto/s52748EVHe94UKIR0Y5EiA/o.jpg', 'is_closed': False, 'url': 'https://www.yelp.com/biz/ema-chicago-6?adjust_creative=MkAGikFT9ffLGvyuoTjUWQ&utm_campaign=yelp_api_v3&utm_medium=api_v3_business_search&utm_source=MkAGikFT9ffLGvyuoTjUWQ', 'review_count': 1114, 'categories': [{'alias': 'mediterranean', 'title': 'Mediterranean'}, {'alias': 'tapasmallplates', 'title': 'Tapas/Small Plates'}], 'rating': 4.5, 'coordinates': {'latitude': 41.89096008175033, 'longitude': -87.6308916}, 'transactions': ['pickup', 'delivery'], 'price': '$$', 'location': {'address1': '74 W Illinois St', 'address2': None, 'address3': None, 'city': 'Chicago', 'zip_code': '60654', 'country': 'US', 'state': 'IL', 'display_address': ['74 W Illinois St', 'Chicago, IL 60654']}, 'phone': '+13125275586', 'display_phone': '(312) 527-5586', 'distance': 1723.2503930231803}, {'id': '_UJ3KqtHIHjExbAg-iIGUA', 'alias': 'greek-islands-restaurant-chicago', 'name': 'Greek Islands Restaurant', 'image_url': 'https://s3-media1.fl.yelpcdn.com/bphoto/E9eB7tElrGp8h4IhsS6JHg/o.jpg', 'is_closed': False, 'url': 'https://www.yelp.com/biz/greek-islands-restaurant-chicago?adjust_creative=MkAGikFT9ffLGvyuoTjUWQ&utm_campaign=yelp_api_v3&utm_medium=api_v3_business_search&utm_source=MkAGikFT9ffLGvyuoTjUWQ', 'review_count': 1909, 'categories': [{'alias': 'greek', 'title': 'Greek'}, {'alias': 'mediterranean', 'title': 'Mediterranean'}], 'rating': 4.0, 'coordinates': {'latitude': 41.87896, 'longitude': -87.64763}, 'transactions': ['pickup', 'delivery'], 'price': '$$', 'location': {'address1': '200 S Halsted St', 'address2': '', 'address3': '', 'city': 'Chicago', 'zip_code': '60661', 'country': 'US', 'state': 'IL', 'display_address': ['200 S Halsted St', 'Chicago, IL 60661']}, 'phone': '+13127829855', 'display_phone': '(312) 782-9855', 'distance': 1782.8663062453277}, {'id': 'o4MU9gK7epWUMv2WVW1qrA', 'alias': 'yolk-streeterville-chicago-2', 'name': 'Yolk - Streeterville', 'image_url': 'https://s3-media2.fl.yelpcdn.com/bphoto/owClU_xUzfuwO6XkU3r2YA/o.jpg', 'is_closed': False, 'url': 'https://www.yelp.com/biz/yolk-streeterville-chicago-2?adjust_creative=MkAGikFT9ffLGvyuoTjUWQ&utm_campaign=yelp_api_v3&utm_medium=api_v3_business_search&utm_source=MkAGikFT9ffLGvyuoTjUWQ', 'review_count': 2274, 'categories': [{'alias': 'breakfast_brunch', 'title': 'Breakfast & Brunch'}, {'alias': 'tradamerican', 'title': 'American (Traditional)'}, {'alias': 'coffee', 'title': 'Coffee & Tea'}], 'rating': 4.0, 'coordinates': {'latitude': 41.8924891, 'longitude': -87.618153}, 'transactions': ['pickup', 'delivery'], 'price': '$$', 'location': {'address1': '355 E Ohio St', 'address2': '', 'address3': '', 'city': 'Chicago', 'zip_code': '60611', 'country': 'US', 'state': 'IL', 'display_address': ['355 E Ohio St', 'Chicago, IL 60611']}, 'phone': '+13128229655', 'display_phone': '(312) 822-9655', 'distance': 1943.6282363735913}, {'id': 'rgHFY55p10VVur7N3s-z5Q', 'alias': 'roka-akor-chicago-chicago', 'name': 'Roka Akor - Chicago', 'image_url': 'https://s3-media1.fl.yelpcdn.com/bphoto/5Y6wK7K_U7e0_mYawKbtpQ/o.jpg', 'is_closed': False, 'url': 'https://www.yelp.com/biz/roka-akor-chicago-chicago?adjust_creative=MkAGikFT9ffLGvyuoTjUWQ&utm_campaign=yelp_api_v3&utm_medium=api_v3_business_search&utm_source=MkAGikFT9ffLGvyuoTjUWQ', 'review_count': 1247, 'categories': [{'alias': 'sushi', 'title': 'Sushi Bars'}, {'alias': 'japanese', 'title': 'Japanese'}, {'alias': 'steak', 'title': 'Steakhouses'}], 'rating': 4.0, 'coordinates': {'latitude': 41.8903716, 'longitude': -87.6312552}, 'transactions': ['pickup', 'delivery'], 'price': '$$$', 'location': {'address1': '456 N Clark St', 'address2': '', 'address3': '', 'city': 'Chicago', 'zip_code': '60654', 'country': 'US', 'state': 'IL', 'display_address': ['456 N Clark St', 'Chicago, IL 60654']}, 'phone': '+13124777652', 'display_phone': '(312) 477-7652', 'distance': 1700.5582883320064}, {'id': 'UB6XDuHepJ-ufzsBBcGXKQ', 'alias': 'field-museum-chicago-3', 'name': 'Field Museum', 'image_url': 'https://s3-media4.fl.yelpcdn.com/bphoto/HL2okkzEwUGSN1SH6Mx98Q/o.jpg', 'is_closed': False, 'url': 'https://www.yelp.com/biz/field-museum-chicago-3?adjust_creative=MkAGikFT9ffLGvyuoTjUWQ&utm_campaign=yelp_api_v3&utm_medium=api_v3_business_search&utm_source=MkAGikFT9ffLGvyuoTjUWQ', 'review_count': 1224, 'categories': [{'alias': 'museums', 'title': 'Museums'}], 'rating': 4.0, 'coordinates': {'latitude': 41.8654462216207, 'longitude': -87.6170827596939}, 'transactions': [], 'location': {'address1': '1400 S Lake Shore Dr', 'address2': '', 'address3': '', 'city': 'Chicago', 'zip_code': '60605', 'country': 'US', 'state': 'IL', 'display_address': ['1400 S Lake Shore Dr', 'Chicago, IL 60605']}, 'phone': '+13126657669', 'display_phone': '(312) 665-7669', 'distance': 1389.603115167154}], 'total': 7400, 'region': {'center': {'longitude': -87.62643814086914, 'latitude': 41.87582133547309}}}\n"
     ]
    }
   ],
   "source": [
    "#I'll use a 15 mile radius (around 24140 meters)\n",
    "    #and the address of a hostel in downtown Chicago.\n",
    "yelp_api = YelpAPI(api_key, timeout_s=3.0)\n",
    "search_results = yelp_api.search_query(\n",
    "    location = '24 East Congress Parkway, Chicago, Illinois 60605'\n",
    "    , radius = 24140 #required to be in meters. This hard-coded value is a good equivalent to 15 miles\n",
    "    , limit = 50\n",
    "    , categories = \"mandarin, wok\"\n",
    "    )\n",
    "print(search_results)"
   ]
  },
  {
   "cell_type": "code",
   "execution_count": 4,
   "metadata": {},
   "outputs": [
    {
     "name": "stdout",
     "output_type": "stream",
     "text": [
      "                       id                                  alias  \\\n",
      "0  cKZNbMvoqJaUe7n6lf6i7w  wildberry-pancakes-and-cafe-chicago-2   \n",
      "1  qjnpkS8yZO8xcyEIy5OU9A              girl-and-the-goat-chicago   \n",
      "2  xoi7Cw7FoknAx5p880RtWQ                      au-cheval-chicago   \n",
      "3  boE4Ahsssqic7o5wQLI04w                 the-purple-pig-chicago   \n",
      "4  AkcZ1fUyB3RocKLYGFu20Q     art-institute-of-chicago-chicago-3   \n",
      "\n",
      "                          name  \\\n",
      "0  Wildberry Pancakes and Cafe   \n",
      "1              Girl & The Goat   \n",
      "2                    Au Cheval   \n",
      "3               The Purple Pig   \n",
      "4     Art Institute of Chicago   \n",
      "\n",
      "                                           image_url  is_closed  \\\n",
      "0  https://s3-media3.fl.yelpcdn.com/bphoto/or0SLp...      False   \n",
      "1  https://s3-media2.fl.yelpcdn.com/bphoto/JpfmeB...      False   \n",
      "2  https://s3-media4.fl.yelpcdn.com/bphoto/a0yhvS...      False   \n",
      "3  https://s3-media3.fl.yelpcdn.com/bphoto/4KTBLA...      False   \n",
      "4  https://s3-media2.fl.yelpcdn.com/bphoto/Nxk4IE...      False   \n",
      "\n",
      "                                                 url  review_count  \\\n",
      "0  https://www.yelp.com/biz/wildberry-pancakes-an...          7907   \n",
      "1  https://www.yelp.com/biz/girl-and-the-goat-chi...          8812   \n",
      "2  https://www.yelp.com/biz/au-cheval-chicago?adj...          7394   \n",
      "3  https://www.yelp.com/biz/the-purple-pig-chicag...          7356   \n",
      "4  https://www.yelp.com/biz/art-institute-of-chic...          1907   \n",
      "\n",
      "                                          categories  rating  \\\n",
      "0  [{'alias': 'pancakes', 'title': 'Pancakes'}, {...     4.5   \n",
      "1  [{'alias': 'newamerican', 'title': 'American (...     4.5   \n",
      "2  [{'alias': 'bars', 'title': 'Bars'}, {'alias':...     4.5   \n",
      "3  [{'alias': 'tapasmallplates', 'title': 'Tapas/...     4.0   \n",
      "4  [{'alias': 'artmuseums', 'title': 'Art Museums'}]     4.5   \n",
      "\n",
      "                                         coordinates        transactions  \\\n",
      "0    {'latitude': 41.884668, 'longitude': -87.62288}  [pickup, delivery]   \n",
      "1  {'latitude': 41.88415330470642, 'longitude': -...          [delivery]   \n",
      "2    {'latitude': 41.88466, 'longitude': -87.647668}          [delivery]   \n",
      "3   {'latitude': 41.890694, 'longitude': -87.624782}  [pickup, delivery]   \n",
      "4     {'latitude': 41.8796, 'longitude': -87.623713}                  []   \n",
      "\n",
      "  price                                           location         phone  \\\n",
      "0    $$  {'address1': '130 E Randolph St', 'address2': ...  +13129389777   \n",
      "1   $$$  {'address1': '809 W Randolph St', 'address2': ...  +13124926262   \n",
      "2    $$  {'address1': '800 W Randolph St', 'address2': ...  +13129294580   \n",
      "3   $$$  {'address1': '444 N Michigan Ave', 'address2':...  +13124641744   \n",
      "4   NaN  {'address1': '111 S Michigan Ave', 'address2':...  +13124433600   \n",
      "\n",
      "    display_phone     distance  \n",
      "0  (312) 938-9777  1026.862496  \n",
      "1  (312) 492-6262  2009.280300  \n",
      "2  (312) 929-4580  2013.725282  \n",
      "3  (312) 464-1744  1659.436534  \n",
      "4  (312) 443-3600   476.912902  \n"
     ]
    }
   ],
   "source": [
    "#Unfortunately the regular results are in a dictionary, so we will transform it\n",
    "    #a bit to make it more understandable\n",
    "mandarin_businesses = pd.DataFrame.from_dict(search_results['businesses'])\n",
    "print(mandarin_businesses.loc[0:4])"
   ]
  },
  {
   "cell_type": "code",
   "execution_count": 5,
   "metadata": {},
   "outputs": [],
   "source": [
    "#Save it to a csv in the same folder as our jupyter notebook\n",
    "mandarin_businesses.to_csv(r'output_yelp_mandarin_data.csv', index = False)"
   ]
  },
  {
   "cell_type": "code",
   "execution_count": null,
   "metadata": {},
   "outputs": [],
   "source": [
    "'''\n",
    "Question 2\n",
    "Function: extract data based on latitude, longitude, and search radius.\n",
    "Restaurant type is optional and will default to \"barbecue\".\n",
    "'''"
   ]
  },
  {
   "cell_type": "code",
   "execution_count": 6,
   "metadata": {},
   "outputs": [
    {
     "name": "stdout",
     "output_type": "stream",
     "text": [
      "Latitude (numeric): 44\n",
      "Longitude (numeric): -87\n",
      "Radius (numeric, in miles): 24\n"
     ]
    },
    {
     "data": {
      "text/html": [
       "<div>\n",
       "<style scoped>\n",
       "    .dataframe tbody tr th:only-of-type {\n",
       "        vertical-align: middle;\n",
       "    }\n",
       "\n",
       "    .dataframe tbody tr th {\n",
       "        vertical-align: top;\n",
       "    }\n",
       "\n",
       "    .dataframe thead th {\n",
       "        text-align: right;\n",
       "    }\n",
       "</style>\n",
       "<table border=\"1\" class=\"dataframe\">\n",
       "  <thead>\n",
       "    <tr style=\"text-align: right;\">\n",
       "      <th></th>\n",
       "      <th>id</th>\n",
       "      <th>alias</th>\n",
       "      <th>name</th>\n",
       "      <th>image_url</th>\n",
       "      <th>is_closed</th>\n",
       "      <th>url</th>\n",
       "      <th>review_count</th>\n",
       "      <th>categories</th>\n",
       "      <th>rating</th>\n",
       "      <th>coordinates</th>\n",
       "      <th>transactions</th>\n",
       "      <th>location</th>\n",
       "      <th>phone</th>\n",
       "      <th>display_phone</th>\n",
       "      <th>distance</th>\n",
       "      <th>price</th>\n",
       "    </tr>\n",
       "  </thead>\n",
       "  <tbody>\n",
       "    <tr>\n",
       "      <th>0</th>\n",
       "      <td>RZlz1y8rANvbNTVMMAWKhg</td>\n",
       "      <td>litte-sable-point-light-house-mears</td>\n",
       "      <td>Litte Sable Point Light House</td>\n",
       "      <td>https://s3-media2.fl.yelpcdn.com/bphoto/HNzxEI...</td>\n",
       "      <td>False</td>\n",
       "      <td>https://www.yelp.com/biz/litte-sable-point-lig...</td>\n",
       "      <td>10</td>\n",
       "      <td>[{'alias': 'landmarks', 'title': 'Landmarks &amp; ...</td>\n",
       "      <td>5.0</td>\n",
       "      <td>{'latitude': 43.65135881653374, 'longitude': -...</td>\n",
       "      <td>[]</td>\n",
       "      <td>{'address1': '287 N Lighthouse Dr', 'address2'...</td>\n",
       "      <td>+12318457417</td>\n",
       "      <td>(231) 845-7417</td>\n",
       "      <td>53551.320678</td>\n",
       "      <td>NaN</td>\n",
       "    </tr>\n",
       "    <tr>\n",
       "      <th>1</th>\n",
       "      <td>-oxnJTAxBO3HUjf5zW-03Q</td>\n",
       "      <td>lighthouse-grill-mears</td>\n",
       "      <td>Lighthouse Grill</td>\n",
       "      <td>https://s3-media1.fl.yelpcdn.com/bphoto/c5M7Nr...</td>\n",
       "      <td>False</td>\n",
       "      <td>https://www.yelp.com/biz/lighthouse-grill-mear...</td>\n",
       "      <td>3</td>\n",
       "      <td>[{'alias': 'tradamerican', 'title': 'American ...</td>\n",
       "      <td>2.5</td>\n",
       "      <td>{'latitude': 43.6570333689451, 'longitude': -8...</td>\n",
       "      <td>[]</td>\n",
       "      <td>{'address1': '9671 W Silver Lake Rd', 'address...</td>\n",
       "      <td>+12318734428</td>\n",
       "      <td>(231) 873-4428</td>\n",
       "      <td>54219.936349</td>\n",
       "      <td>$</td>\n",
       "    </tr>\n",
       "  </tbody>\n",
       "</table>\n",
       "</div>"
      ],
      "text/plain": [
       "                       id                                alias  \\\n",
       "0  RZlz1y8rANvbNTVMMAWKhg  litte-sable-point-light-house-mears   \n",
       "1  -oxnJTAxBO3HUjf5zW-03Q               lighthouse-grill-mears   \n",
       "\n",
       "                            name  \\\n",
       "0  Litte Sable Point Light House   \n",
       "1               Lighthouse Grill   \n",
       "\n",
       "                                           image_url  is_closed  \\\n",
       "0  https://s3-media2.fl.yelpcdn.com/bphoto/HNzxEI...      False   \n",
       "1  https://s3-media1.fl.yelpcdn.com/bphoto/c5M7Nr...      False   \n",
       "\n",
       "                                                 url  review_count  \\\n",
       "0  https://www.yelp.com/biz/litte-sable-point-lig...            10   \n",
       "1  https://www.yelp.com/biz/lighthouse-grill-mear...             3   \n",
       "\n",
       "                                          categories  rating  \\\n",
       "0  [{'alias': 'landmarks', 'title': 'Landmarks & ...     5.0   \n",
       "1  [{'alias': 'tradamerican', 'title': 'American ...     2.5   \n",
       "\n",
       "                                         coordinates transactions  \\\n",
       "0  {'latitude': 43.65135881653374, 'longitude': -...           []   \n",
       "1  {'latitude': 43.6570333689451, 'longitude': -8...           []   \n",
       "\n",
       "                                            location         phone  \\\n",
       "0  {'address1': '287 N Lighthouse Dr', 'address2'...  +12318457417   \n",
       "1  {'address1': '9671 W Silver Lake Rd', 'address...  +12318734428   \n",
       "\n",
       "    display_phone      distance price  \n",
       "0  (231) 845-7417  53551.320678   NaN  \n",
       "1  (231) 873-4428  54219.936349     $  "
      ]
     },
     "execution_count": 6,
     "metadata": {},
     "output_type": "execute_result"
    }
   ],
   "source": [
    "lat = input('Latitude (numeric): ')\n",
    "lon = input('Longitude (numeric): ')\n",
    "rad = int(input('Radius (numeric, in miles): '))\n",
    "\n",
    "radius_in_meters = int(float(rad)*1609.344)#convert to meters\n",
    "            \n",
    "def get_businesses(lati, long, radi, kind='chicken'):\n",
    "    search_results = yelp_api.search_query(\n",
    "        latitude = lati\n",
    "        ,longitude = long\n",
    "        , radius = radi \n",
    "        , limit = 50\n",
    "    , categories = kind\n",
    "    )\n",
    "    return search_results\n",
    "\n",
    "output1 = get_businesses(lat, lon, radius_in_meters)\n",
    "output2 = pd.DataFrame.from_dict(output1['businesses'])\n",
    "    \n",
    "output2"
   ]
  },
  {
   "cell_type": "code",
   "execution_count": null,
   "metadata": {},
   "outputs": [],
   "source": [
    "'''\n",
    "3. Function: return \"n\" zip codes with the highest number of restaurants \n",
    "when the extract has same format as the original from first question. \n",
    "'''"
   ]
  },
  {
   "cell_type": "code",
   "execution_count": 7,
   "metadata": {},
   "outputs": [
    {
     "name": "stderr",
     "output_type": "stream",
     "text": [
      "<ipython-input-7-d610079319bc>:6: SettingWithCopyWarning: \n",
      "A value is trying to be set on a copy of a slice from a DataFrame\n",
      "\n",
      "See the caveats in the documentation: https://pandas.pydata.org/pandas-docs/stable/user_guide/indexing.html#returning-a-view-versus-a-copy\n",
      "  extract['five_digit_zip_code'][i] = zip_c\n"
     ]
    },
    {
     "data": {
      "text/plain": [
       "[60654, 60611, 60607]"
      ]
     },
     "execution_count": 7,
     "metadata": {},
     "output_type": "execute_result"
    }
   ],
   "source": [
    "def top_zips(extract, number):\n",
    "    extract['five_digit_zip_code'] = 0\n",
    "    for i in range(len(extract['five_digit_zip_code'])):\n",
    "        loc_dict = extract['location'][i]\n",
    "        zip_c = loc_dict['zip_code']\n",
    "        extract['five_digit_zip_code'][i] = zip_c\n",
    "        \n",
    "    #group by zip code, count, and return the top three\n",
    "    count_dict = Counter(extract['five_digit_zip_code'])\n",
    "    return sorted(count_dict, key=count_dict.get, reverse=True)[:number]\n",
    "\n",
    "top_zips(mandarin_businesses, 3)"
   ]
  }
 ],
 "metadata": {
  "kernelspec": {
   "display_name": "Python 3",
   "language": "python",
   "name": "python3"
  },
  "language_info": {
   "codemirror_mode": {
    "name": "ipython",
    "version": 3
   },
   "file_extension": ".py",
   "mimetype": "text/x-python",
   "name": "python",
   "nbconvert_exporter": "python",
   "pygments_lexer": "ipython3",
   "version": "3.8.1"
  }
 },
 "nbformat": 4,
 "nbformat_minor": 4
}
